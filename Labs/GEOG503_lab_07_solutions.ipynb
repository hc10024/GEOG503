{
 "cells": [
  {
   "cell_type": "markdown",
   "metadata": {},
   "source": [
    "# Question 1\n",
    "\n",
    "Write a script that creates a new polygon feature class containing a single (square) polygon with the following coordinates: (0, 0), (0, 1,000), (1,000, 0), and (1,000, 1,000). (5 pt.)"
   ]
  },
  {
   "cell_type": "code",
   "execution_count": 1,
   "metadata": {
    "collapsed": false
   },
   "outputs": [
    {
     "data": {
      "text/plain": [
       "<Result 'C:\\\\geog503\\\\data\\\\Results\\\\Q1_polygon.shp'>"
      ]
     },
     "execution_count": 1,
     "metadata": {},
     "output_type": "execute_result"
    }
   ],
   "source": [
    "import arcpy\n",
    "workspace =  r\"C:\\Geog503\\data\\Results\"\n",
    "out_file = \"Q1_polygon.shp\"\n",
    "arcpy.env.workspace = workspace\n",
    "arcpy.env.overwriteOutput = True\n",
    "pnt = arcpy.Point()\n",
    "array = arcpy.Array()\n",
    "coordList = [[0,0],[0,1000],[1000,1000], [1000,0]]\n",
    "for coord in coordList:\n",
    "    pnt.X = coord[0]\n",
    "    pnt.Y = coord[1]\n",
    "    array.add(pnt)\n",
    "fc = arcpy.Polygon(array)\n",
    "arcpy.CopyFeatures_management(fc,out_file)"
   ]
  },
  {
   "cell_type": "markdown",
   "metadata": {},
   "source": [
    "# Question 2\n",
    "\n",
    "Write a script that determines the perimeter (in meters) and area (in square meters) of each of the individual islands of the Hawaii.shp feature class. Recall that this is a multipart feature class. (5 pt.)"
   ]
  },
  {
   "cell_type": "code",
   "execution_count": 2,
   "metadata": {
    "collapsed": false
   },
   "outputs": [
    {
     "name": "stdout",
     "output_type": "stream",
     "text": [
      "partCount = 11\n",
      "Part 0 : Length = 498725.055304, Area = 10486352990.4\n",
      "Part 1 : Length = 56881.0037528, Area = 119076863.937\n",
      "Part 2 : Length = 79591.0682892, Area = 364740852.744\n",
      "Part 3 : Length = 237012.259994, Area = 1907482650.51\n",
      "Part 4 : Length = 161088.602656, Area = 685386630.295\n",
      "Part 5 : Length = 4352.76437225, Area = 1031618.8376\n",
      "Part 6 : Length = 4695.32817565, Area = 1256964.62017\n",
      "Part 7 : Length = 272519.587261, Area = 1577775022.22\n",
      "Part 8 : Length = 78651.6156499, Area = 196286563.822\n",
      "Part 9 : Length = 4013.22238472, Area = 856335.844777\n",
      "Part 10: Length = 172463.404798, Area = 1449442868.45\n"
     ]
    }
   ],
   "source": [
    "import arcpy\n",
    "arcpy.env.workspace = r\"C:\\Geog503\\data\"\n",
    "fc = \"hawaii.shp\"\n",
    "g = arcpy.Geometry()\n",
    "geomList = arcpy.CopyFeatures_management(fc,g)\n",
    "\n",
    "for geom in geomList:\n",
    "    print(\"partCount = {}\".format(geom.partCount))\n",
    "    partCount = geom.partCount\n",
    "    for i in range(0, partCount):\n",
    "        part = geom.getPart(i)\n",
    "        fc = arcpy.Polygon(part)\n",
    "        length = fc.length\n",
    "        area = fc.area\n",
    "        print(\"Part {0:2}: Length = {1}, Area = {2}\".format(str(i),str(length),str(area)))"
   ]
  },
  {
   "cell_type": "markdown",
   "metadata": {},
   "source": [
    "# Question 3\n",
    "\n",
    "Write a script that creates an envelope polygon feature class for the Hawaii.shp feature class. There is actually a tool that accomplishes this called Minimum Bounding Geometry. You can look at the tool to get some ideas, but your script needs to work directly with the geometry properties. (10 pt.)"
   ]
  },
  {
   "cell_type": "code",
   "execution_count": 3,
   "metadata": {
    "collapsed": false
   },
   "outputs": [
    {
     "name": "stdout",
     "output_type": "stream",
     "text": [
      "[u'369452.444658486', u'2413270.8632363', u'453956.568571401', u'2540498.57597544', u'966495.579671934', u'2200072.27127229', u'881991.455755093', u'2072844.55853016']\n"
     ]
    },
    {
     "data": {
      "text/plain": [
       "<Result 'C:\\\\geog503\\\\data\\\\Results\\\\Q3_envelope.shp'>"
      ]
     },
     "execution_count": 3,
     "metadata": {},
     "output_type": "execute_result"
    }
   ],
   "source": [
    "import arcpy\n",
    "fc = r\"C:\\Geog503\\data\\hawaii.shp\"\n",
    "workspace = r\"C:\\Geog503\\data\\Results\"\n",
    "out_file = \"Q3_envelope.shp\"\n",
    "arcpy.env.workspace = workspace\n",
    "geomList = arcpy.CopyFeatures_management(fc,arcpy.Geometry())\n",
    "pnt = arcpy.Point()\n",
    "array = arcpy.Array()\n",
    "for geom in geomList:\n",
    "    coord_list = geom.hullRectangle.split(\" \")\n",
    "    print(coord_list)\n",
    "    point_count = len(coord_list)/2\n",
    "    for i in range(0, point_count):\n",
    "        pnt.X = coord_list[i*2]\n",
    "        pnt.Y = coord_list[i*2+1]\n",
    "        array.add(pnt)\n",
    "poly = arcpy.Polygon(array)\n",
    "arcpy.CopyFeatures_management(poly,out_file)        "
   ]
  },
  {
   "cell_type": "markdown",
   "metadata": {},
   "source": [
    "# Question 4\n",
    "\n",
    "Write a script that creates a Polygon shapefile based on the coordinates from the coordinates.txt, which contains coordinate (X, Y) pairs for 11 features. You should use relevant Geometry classes to perform this task. Do NOT use InsertCursor function. Use the spatial reference of Hawaii.shp for the resulting Polygon shapefile. (20 pt.)"
   ]
  },
  {
   "cell_type": "code",
   "execution_count": 4,
   "metadata": {
    "collapsed": false
   },
   "outputs": [
    {
     "name": "stdout",
     "output_type": "stream",
     "text": [
      "Feature 0 : 440   points\n",
      "Feature 1 : 64    points\n",
      "Feature 2 : 73    points\n",
      "Feature 3 : 240   points\n",
      "Feature 4 : 141   points\n",
      "Feature 5 : 12    points\n",
      "Feature 6 : 13    points\n",
      "Feature 7 : 277   points\n",
      "Feature 8 : 81    points\n",
      "Feature 9 : 12    points\n",
      "Feature 10: 193   points\n"
     ]
    },
    {
     "data": {
      "text/plain": [
       "<Result 'C:\\\\geog503\\\\data\\\\Results\\\\polygon.shp'>"
      ]
     },
     "execution_count": 4,
     "metadata": {},
     "output_type": "execute_result"
    }
   ],
   "source": [
    "import arcpy\n",
    "import os\n",
    "folder =  r\"C:\\Geog503\\data\"\n",
    "workspace = os.path.join(folder,\"Results\")\n",
    "in_file = os.path.join(folder, \"coordinates.txt\")\n",
    "out_file = \"polygon.shp\"\n",
    "out_prj = os.path.join(folder, \"holes.prj\")\n",
    "\n",
    "arcpy.env.workspace = workspace\n",
    "arcpy.env.overwriteOutput = True\n",
    "\n",
    "fcList = []\n",
    "fc = []\n",
    "\n",
    "f = open(in_file)\n",
    "\n",
    "for line in f:\n",
    "    if line.startswith(\"Feature\"):\n",
    "        if len(fc)>0:  # skip the first line\n",
    "            fcList.append(fc) \n",
    "            fc = []\n",
    "    else:\n",
    "        XY = line.split(\",\")\n",
    "        X = float(XY[0].split(\"=\")[1])\n",
    "        Y = float(XY[1].split(\"=\")[1])\n",
    "        fc.append([X,Y])\n",
    "\n",
    "fcList.append(fc)  # add the last polygon to the list\n",
    "pnt = arcpy.Point()\n",
    "geomList =[]\n",
    "\n",
    "spatialRef = arcpy.SpatialReference(out_prj)\n",
    "i = 0\n",
    "for fc in fcList:\n",
    "    array = arcpy.Array()\n",
    "    for point in fc:\n",
    "        pnt.X = point[0]\n",
    "        pnt.Y = point[1]\n",
    "        array.add(pnt)\n",
    "    fcGeometry = arcpy.Polygon(array,spatialRef)\n",
    "    geomList.append(fcGeometry)\n",
    "    print(\"Feature {:2}: {:5} points\".format(str(i),str(array.count)))\n",
    "    i = i + 1\n",
    "arcpy.CopyFeatures_management(geomList, out_file)"
   ]
  }
 ],
 "metadata": {
  "anaconda-cloud": {},
  "kernelspec": {
   "display_name": "Python [conda env:arc104]",
   "language": "python",
   "name": "conda-env-arc104-py"
  },
  "language_info": {
   "codemirror_mode": {
    "name": "ipython",
    "version": 2
   },
   "file_extension": ".py",
   "mimetype": "text/x-python",
   "name": "python",
   "nbconvert_exporter": "python",
   "pygments_lexer": "ipython2",
   "version": "2.7.10"
  }
 },
 "nbformat": 4,
 "nbformat_minor": 1
}
