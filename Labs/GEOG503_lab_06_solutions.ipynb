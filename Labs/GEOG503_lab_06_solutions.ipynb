{
 "cells": [
  {
   "cell_type": "markdown",
   "metadata": {},
   "source": [
    "# Question 1\n",
    "\n",
    "Write a script that performs the following tasks using the airports.shp\n",
    "\n",
    "* **Select those airports that are located in “Nome Census Area” print out their NAME and LOCID. (5 pt.)**"
   ]
  },
  {
   "cell_type": "code",
   "execution_count": 1,
   "metadata": {
    "collapsed": false
   },
   "outputs": [
    {
     "name": "stdout",
     "output_type": "stream",
     "text": [
      "FID\n",
      "Shape\n",
      "AREA\n",
      "PERIMETER\n",
      "AIRPRTX020\n",
      "LOCID\n",
      "FEATURE\n",
      "NAME\n",
      "TOT_ENP\n",
      "STATE\n",
      "COUNTY\n",
      "FIPS\n",
      "STATE_FIPS\n"
     ]
    }
   ],
   "source": [
    "import arcpy\n",
    "workspace = r\"C:\\Geog503\\lab6\"\n",
    "arcpy.env.workspace = workspace\n",
    "arcpy.env.overwriteOutput = True\n",
    "fc = \"airports.shp\"\n",
    "fields = arcpy.ListFields(fc)\n",
    "for field in fields:\n",
    "    print(field.name)"
   ]
  },
  {
   "cell_type": "code",
   "execution_count": 2,
   "metadata": {
    "collapsed": false
   },
   "outputs": [
    {
     "name": "stdout",
     "output_type": "stream",
     "text": [
      "NAME = Koyuk                LOCID = KKA\n",
      "NAME = Saint Michael        LOCID = 5S8\n",
      "NAME = Stebbins             LOCID = WBB\n",
      "NAME = Unalakleet           LOCID = UNK\n",
      "NAME = Shaktoolik           LOCID = 38A\n",
      "NAME = Elim                 LOCID = ELI\n",
      "NAME = Golovin              LOCID = GLV\n",
      "NAME = White Mountain       LOCID = WMO\n",
      "NAME = Nome                 LOCID = OME\n",
      "NAME = Savoonga             LOCID = SVA\n",
      "NAME = Teller               LOCID = K54\n",
      "NAME = Brevig Mission       LOCID = KTS\n",
      "NAME = Shishmaref           LOCID = SHH\n",
      "NAME = Wales                LOCID = IWK\n",
      "NAME = Gambell              LOCID = GAM\n"
     ]
    }
   ],
   "source": [
    "import arcpy\n",
    "workspace = r\"C:\\Geog503\\lab6\"\n",
    "arcpy.env.workspace = workspace\n",
    "fc = \"airports.shp\"\n",
    "fields = [\"COUNTY\", \"NAME\", \"LOCID\"]\n",
    "cursor = arcpy.da.SearchCursor(fc, fields)\n",
    "for row in cursor:\n",
    "    if row[0] == \"Nome Census Area\":\n",
    "        print(\"NAME = {:20} LOCID = {}\".format(row[1], row[2]))"
   ]
  },
  {
   "cell_type": "markdown",
   "metadata": {},
   "source": [
    "*\t**Update the STATE field of those selected airports to “AK” if their STATE field is empty. (5 pt.)**"
   ]
  },
  {
   "cell_type": "code",
   "execution_count": 3,
   "metadata": {
    "collapsed": false
   },
   "outputs": [
    {
     "name": "stdout",
     "output_type": "stream",
     "text": [
      "\"COUNTY\"='Nome Census Area'\n"
     ]
    }
   ],
   "source": [
    "import arcpy\n",
    "workspace = r\"C:\\Geog503\\lab6\"\n",
    "arcpy.env.workspace = workspace\n",
    "fc = \"airports.shp\"\n",
    "fieldname = \"COUNTY\"\n",
    "delimfield = arcpy.AddFieldDelimiters(fc,fieldname)\n",
    "where_clause = delimfield + \"='Nome Census Area'\"\n",
    "print(where_clause)\n",
    "\n",
    "fields = [\"STATE\"]\n",
    "cursor =  arcpy.da.UpdateCursor(fc, fields, where_clause)\n",
    "for row in cursor:\n",
    "    if row[0].strip() == \"\":\n",
    "        row[0] = \"AK\"\n",
    "        cursor.updateRow(row)\n",
    "del cursor"
   ]
  },
  {
   "cell_type": "markdown",
   "metadata": {},
   "source": [
    "*\t**Export the information about those airports in “Nome Census Area” County to a text file, including these fields: NAME, LOCID, Longitude, and Latitude. (10 pt.)**"
   ]
  },
  {
   "cell_type": "code",
   "execution_count": 4,
   "metadata": {
    "collapsed": false
   },
   "outputs": [
    {
     "name": "stdout",
     "output_type": "stream",
     "text": [
      "NAME: Koyuk                LOCID: KKA        X: -161.151077271       Y: 64.9380722046        \n",
      "NAME: Saint Michael        LOCID: 5S8        X: -162.110366821       Y: 63.4900512695        \n",
      "NAME: Stebbins             LOCID: WBB        X: -162.282745361       Y: 63.5159187317        \n",
      "NAME: Unalakleet           LOCID: UNK        X: -160.798950195       Y: 63.8883590698        \n",
      "NAME: Shaktoolik           LOCID: 38A        X: -161.202529907       Y: 64.3626327515        \n",
      "NAME: Elim                 LOCID: ELI        X: -162.270065308       Y: 64.6140060425        \n",
      "NAME: Golovin              LOCID: GLV        X: -163.039520264       Y: 64.5434341431        \n",
      "NAME: White Mountain       LOCID: WMO        X: -163.41255188        Y: 64.6891937256        \n",
      "NAME: Nome                 LOCID: OME        X: -165.445251465       Y: 64.5121994019        \n",
      "NAME: Savoonga             LOCID: SVA        X: -170.492630005       Y: 63.6863937378        \n",
      "NAME: Teller               LOCID: K54        X: -166.336013794       Y: 65.2408981323        \n",
      "NAME: Brevig Mission       LOCID: KTS        X: -166.463165283       Y: 65.3313598633        \n",
      "NAME: Shishmaref           LOCID: SHH        X: -166.089553833       Y: 66.2495651245        \n",
      "NAME: Wales                LOCID: IWK        X: -168.09916687        Y: 65.6239395142        \n",
      "NAME: Gambell              LOCID: GAM        X: -171.732818604       Y: 63.7667655945        \n"
     ]
    }
   ],
   "source": [
    "import arcpy\n",
    "fc = r\"C:\\geog503\\lab6\\airports.shp\"\n",
    "txt = r\"C:\\geog503\\lab6\\Results\\Nome_Census_Area.txt\"\n",
    "fieldname = \"COUNTY\"\n",
    "delimfield = arcpy.AddFieldDelimiters(fc,fieldname)\n",
    "where_clause = delimfield + \"='Nome Census Area'\"\n",
    "# print(where_clause)\n",
    "\n",
    "fields = [\"NAME\", \"LOCID\", \"SHAPE@X\", \"SHAPE@Y\"]\n",
    "f = open(txt, 'w')\n",
    "\n",
    "cursor =  arcpy.da.UpdateCursor(fc, fields, where_clause)\n",
    "for row in cursor:\n",
    "    line = \"NAME: {:20} LOCID: {:10} X: {:20} Y: {:20} \".format(row[0], row[1], str(row[2]), str(row[3]))\n",
    "    print(line)\n",
    "    f.write(line + \"\\n\")\n",
    "            \n",
    "del cursor\n",
    "f.close()"
   ]
  },
  {
   "cell_type": "markdown",
   "metadata": {},
   "source": [
    "# Question 2\n",
    "\n",
    "Write a script that converts the airports.txt into a Point-type shapefile. The resulting shapefile should have the following fields based on the information from the airports.txt, including NAME, LOCID, X, and Y.  (20 pt.)"
   ]
  },
  {
   "cell_type": "code",
   "execution_count": 5,
   "metadata": {
    "collapsed": false
   },
   "outputs": [
    {
     "name": "stdout",
     "output_type": "stream",
     "text": [
      "airports.shp\n"
     ]
    }
   ],
   "source": [
    "import arcpy\n",
    "import os\n",
    "workspace =  r\"C:\\Geog503\\lab6\\Results\"\n",
    "infile = r\"C:\\Geog503\\lab6\\airports.txt\"\n",
    "prj =  r\"C:\\Geog503\\lab6\\airports.prj\"\n",
    "\n",
    "arcpy.env.workspace = workspace\n",
    "arcpy.env.overwriteOutput = True\n",
    "\n",
    "pointList =[]\n",
    "fc = os.path.splitext(os.path.basename(infile))[0] + \".shp\"\n",
    "print(fc)\n",
    "\n",
    "f = open(infile)\n",
    "for line in f.readlines():\n",
    "    list1 = line.split(\", \")\n",
    "    point = []\n",
    "    for item in list1:\n",
    "        subitem = item.split(\": \")\n",
    "        point.append(subitem[1].strip('\\n'))\n",
    "    pointList.append(point)\n",
    "\n",
    "spatialRef = arcpy.SpatialReference(prj)\n",
    "arcpy.CreateFeatureclass_management(workspace,fc,\"Point\",spatial_reference=spatialRef)\n",
    "\n",
    "arcpy.AddField_management(fc,\"Name\",\"string\",field_length=50)\n",
    "arcpy.AddField_management(fc,\"LOCID\",\"string\",field_length=10)\n",
    "arcpy.AddField_management(fc,\"X\",\"float\")\n",
    "arcpy.AddField_management(fc,\"Y\",\"float\")\n",
    "\n",
    "fields = [\"Id\",\"NAME\",\"LOCID\",\"X\",\"Y\",\"SHAPE@X\",\"SHAPE@Y\"]\n",
    "cursor = arcpy.da.InsertCursor(fc, fields)\n",
    "\n",
    "for point in pointList:\n",
    "    id = int(point[0])\n",
    "    name = point[1]\n",
    "    locid = point[2]\n",
    "    x = float(point[3])\n",
    "    y = float(point[4])\n",
    "    cursor.insertRow([id,name,locid,x,y,x,y])\n",
    "del cursor"
   ]
  }
 ],
 "metadata": {
  "anaconda-cloud": {},
  "kernelspec": {
   "display_name": "Python [conda env:arc104]",
   "language": "python",
   "name": "conda-env-arc104-py"
  },
  "language_info": {
   "codemirror_mode": {
    "name": "ipython",
    "version": 2
   },
   "file_extension": ".py",
   "mimetype": "text/x-python",
   "name": "python",
   "nbconvert_exporter": "python",
   "pygments_lexer": "ipython2",
   "version": "2.7.10"
  }
 },
 "nbformat": 4,
 "nbformat_minor": 1
}
