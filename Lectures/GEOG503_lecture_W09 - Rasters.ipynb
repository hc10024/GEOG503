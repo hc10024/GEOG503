{
 "cells": [
  {
   "cell_type": "markdown",
   "metadata": {},
   "source": [
    "# Working with Rasters"
   ]
  },
  {
   "cell_type": "markdown",
   "metadata": {},
   "source": [
    "## Listing Raster"
   ]
  },
  {
   "cell_type": "code",
   "execution_count": 1,
   "metadata": {
    "collapsed": false
   },
   "outputs": [
    {
     "name": "stdout",
     "output_type": "stream",
     "text": [
      "Elevation\n",
      "landcover.tif\n",
      "tm.img\n"
     ]
    }
   ],
   "source": [
    "import arcpy\n",
    "arcpy.env.workspace = r\"C:\\Geog503\\data\"\n",
    "arcpy.env.overwriteOutput = True\n",
    "rasterlist = arcpy.ListRasters()\n",
    "for raster in rasterlist:\n",
    "    print(raster)"
   ]
  },
  {
   "cell_type": "markdown",
   "metadata": {},
   "source": [
    "## Describing Raster"
   ]
  },
  {
   "cell_type": "code",
   "execution_count": 2,
   "metadata": {
    "collapsed": true
   },
   "outputs": [],
   "source": [
    "import arcpy\n",
    "desc = arcpy.Describe(r\"C:\\Geog503\\data\\landcover.tif\")"
   ]
  },
  {
   "cell_type": "markdown",
   "metadata": {},
   "source": [
    "### Generic properties"
   ]
  },
  {
   "cell_type": "code",
   "execution_count": 3,
   "metadata": {
    "collapsed": false,
    "scrolled": true
   },
   "outputs": [
    {
     "name": "stdout",
     "output_type": "stream",
     "text": [
      "Data type:      RasterDataset\n",
      "File path:      C:\\geog503\\data\n",
      "Catalog path:   C:\\geog503\\data\\landcover.tif\n",
      "File name:      landcover.tif\n",
      "Base name:      landcover\n",
      "Name:           landcover.tif\n"
     ]
    }
   ],
   "source": [
    "import arcpy\n",
    "arcpy.env.workspace = r\"C:\\Geog503\\data\"\n",
    "raster = \"landcover.tif\"\n",
    "desc = arcpy.Describe(raster)\n",
    "print(\"{0:15} {1}\".format(\"Data type:\", desc.dataType))\n",
    "print(\"{0:15} {1}\".format(\"File path:\", desc.path))\n",
    "print(\"{0:15} {1}\".format(\"Catalog path: \", desc.catalogPath))\n",
    "print(\"{0:15} {1}\".format(\"File name: \", desc.file))\n",
    "print(\"{0:15} {1}\".format(\"Base name: \", desc.baseName))\n",
    "print(\"{0:15} {1}\".format(\"Name: \", desc.name))"
   ]
  },
  {
   "cell_type": "markdown",
   "metadata": {},
   "source": [
    "### Raster Dataset properties"
   ]
  },
  {
   "cell_type": "code",
   "execution_count": 4,
   "metadata": {
    "collapsed": false
   },
   "outputs": [
    {
     "name": "stdout",
     "output_type": "stream",
     "text": [
      "dataType :           RasterDataset\n",
      "band Count:          1\n",
      "compressionType:     None\n",
      "format:              TIFF\n",
      "permanent:           True\n"
     ]
    }
   ],
   "source": [
    "import arcpy\n",
    "arcpy.env.workspace = r\"C:\\Geog503\\data\"\n",
    "raster = \"landcover.tif\"\n",
    "desc = arcpy.Describe(raster)\n",
    "print(\"{0:20} {1}\".format(\"dataType :\", desc.dataType))\n",
    "print(\"{0:20} {1}\".format(\"band Count:\", desc.bandCount))\n",
    "print(\"{0:20} {1}\".format(\"compressionType: \", desc.compressionType))\n",
    "print(\"{0:20} {1}\".format(\"format: \", desc.format))\n",
    "print(\"{0:20} {1}\".format(\"permanent: \", desc.permanent))"
   ]
  },
  {
   "cell_type": "markdown",
   "metadata": {},
   "source": [
    "### Raster Band properties"
   ]
  },
  {
   "cell_type": "code",
   "execution_count": 5,
   "metadata": {
    "collapsed": false
   },
   "outputs": [
    {
     "name": "stdout",
     "output_type": "stream",
     "text": [
      "height :             2156\n",
      "width:               1794\n",
      "isInteger:           True\n",
      "pixelType:           U8\n",
      "meanCellHeight:      30.0\n",
      "meanCellWidth:       30.0\n"
     ]
    }
   ],
   "source": [
    "import arcpy\n",
    "arcpy.env.workspace = r\"C:\\Geog503\\data\"\n",
    "raster = \"landcover.tif\"\n",
    "desc = arcpy.Describe(raster)\n",
    "print(\"{0:20} {1}\".format(\"height :\", desc.height))\n",
    "print(\"{0:20} {1}\".format(\"width:\", desc.width))\n",
    "print(\"{0:20} {1}\".format(\"isInteger: \", desc.isInteger))\n",
    "print(\"{0:20} {1}\".format(\"pixelType: \", desc.pixelType))\n",
    "print(\"{0:20} {1}\".format(\"meanCellHeight: \", desc.meanCellHeight))\n",
    "print(\"{0:20} {1}\".format(\"meanCellWidth: \", desc.meanCellWidth))"
   ]
  },
  {
   "cell_type": "markdown",
   "metadata": {},
   "source": [
    "### Multiband Rasters"
   ]
  },
  {
   "cell_type": "code",
   "execution_count": 6,
   "metadata": {
    "collapsed": false
   },
   "outputs": [
    {
     "name": "stdout",
     "output_type": "stream",
     "text": [
      "pixelType =  U8\n",
      "height =   1913\n",
      "width =    1990\n"
     ]
    }
   ],
   "source": [
    "import arcpy\n",
    "arcpy.env.workspace = r\"C:\\Geog503\\data\"\n",
    "raster = \"tm.img/Layer_1\"    #or Band_1\n",
    "desc = arcpy.Describe(raster)\n",
    "print(\"{0:10} {1}\".format(\"pixelType = \", desc.pixelType))\n",
    "print(\"{0:10} {1}\".format(\"height = \", str(desc.height)))\n",
    "print(\"{0:10} {1}\".format(\"width = \", str(desc.width)))"
   ]
  },
  {
   "cell_type": "markdown",
   "metadata": {},
   "source": [
    "### Raster Objects\n",
    "\n",
    "* By referencing an existing raster on disk"
   ]
  },
  {
   "cell_type": "code",
   "execution_count": 7,
   "metadata": {
    "collapsed": true
   },
   "outputs": [],
   "source": [
    "import arcpy\n",
    "arcpy.env.workspace = r\"C:\\Geog503\\data\"\n",
    "in_raster = \"Elevation\"\n",
    "outraster = arcpy.Raster(in_raster)"
   ]
  },
  {
   "cell_type": "markdown",
   "metadata": {},
   "source": [
    "* By using a map algebra statement"
   ]
  },
  {
   "cell_type": "code",
   "execution_count": 8,
   "metadata": {
    "collapsed": true
   },
   "outputs": [],
   "source": [
    "import arcpy\n",
    "arcpy.env.workspace = r\"C:\\Geog503\\data\"\n",
    "out_raster = arcpy.sa.Hillshade(\"Elevation\")\n",
    "out_path = r\"C:\\Geog503\\data\\Results\\hillshade.tif\"\n",
    "out_raster.save(out_path)"
   ]
  },
  {
   "cell_type": "markdown",
   "metadata": {},
   "source": [
    "### ArcPy Spatial Analyst Module"
   ]
  },
  {
   "cell_type": "code",
   "execution_count": 9,
   "metadata": {
    "collapsed": true
   },
   "outputs": [],
   "source": [
    "import arcpy\n",
    "from arcpy.sa import *\n",
    "in_raster = arcpy.Raster(\"C:\\Geog503\\data\\Elevation\")\n",
    "out_raster = Hillshade(in_raster)\n",
    "out_path = r\"C:\\Geog503\\data\\Results\\hillshade2.tif\"\n",
    "out_raster.save(out_path)"
   ]
  },
  {
   "cell_type": "markdown",
   "metadata": {},
   "source": [
    "### Map Algebra"
   ]
  },
  {
   "cell_type": "code",
   "execution_count": 10,
   "metadata": {
    "collapsed": true
   },
   "outputs": [],
   "source": [
    "import arcpy\n",
    "from arcpy.sa import *\n",
    "arcpy.env.workspace = r\"C:\\Geog503\\data\"\n",
    "r1 = arcpy.Raster(\"tm.img/Layer_1\")\n",
    "r2 = arcpy.Raster(\"tm.img/Layer_2\")\n",
    "r3 = arcpy.Raster(\"tm.img/Layer_3\")\n",
    "out_raster = (r1 + r2 + r3) / 3\n",
    "out_path = r\"C:\\Geog503\\data\\Results\\r4.tif\"\n",
    "out_raster.save(out_path)"
   ]
  },
  {
   "cell_type": "markdown",
   "metadata": {},
   "source": [
    "### ApplyEnvironment Function"
   ]
  },
  {
   "cell_type": "code",
   "execution_count": 11,
   "metadata": {
    "collapsed": true
   },
   "outputs": [],
   "source": [
    "import arcpy\n",
    "arcpy.env.workspace = r\"C:\\Geog503\\data\"\n",
    "elev = arcpy.Raster(\"Elevation\")\n",
    "tm = arcpy.Raster(\"tm.img\")\n",
    "arcpy.env.outputCoordinateSystem = elev.spatialReference\n",
    "arcpy.env.cellSize = elev.meanCellHeight\n",
    "out_raster = ApplyEnvironment(tm)\n",
    "out_path = r\"C:\\Geog503\\data\\Results\\applyenv.tif\"\n",
    "out_raster.save(out_path)"
   ]
  },
  {
   "cell_type": "markdown",
   "metadata": {},
   "source": [
    "### Spatial Analyst classes (arcpy.sa)\n",
    "\n",
    "* <http://desktop.arcgis.com/en/arcmap/latest/analyze/arcpy-spatial-analyst/an-overview-of-spatial-analyst-classes.htm>"
   ]
  },
  {
   "cell_type": "markdown",
   "metadata": {},
   "source": [
    "* [RemapRange Class](http://desktop.arcgis.com/en/arcmap/latest/analyze/arcpy-spatial-analyst/an-overview-of-transformation-classes.htm)\n"
   ]
  },
  {
   "cell_type": "code",
   "execution_count": 12,
   "metadata": {
    "collapsed": true
   },
   "outputs": [],
   "source": [
    "import arcpy\n",
    "from arcpy.sa import *\n",
    "arcpy.env.workspace = r\"C:\\Geog503\\data\"\n",
    "in_raster = \"Elevation\"\n",
    "remap = arcpy.sa.RemapRange([[1,1000,1],[1000,2000,2],[2000,3000,3],[3000,4000,4]])\n",
    "out_raster = arcpy.sa.Reclassify(in_raster,\"Value\",remap)\n",
    "out_raster.save(r\"C:\\Geog503\\data\\Results\\remapElev.tif\")"
   ]
  },
  {
   "cell_type": "markdown",
   "metadata": {},
   "source": [
    "* [Neighborhood Classes](http://desktop.arcgis.com/en/arcmap/latest/analyze/arcpy-spatial-analyst/an-overview-of-neighborhood-classes.htm)"
   ]
  },
  {
   "cell_type": "code",
   "execution_count": 13,
   "metadata": {
    "collapsed": true
   },
   "outputs": [],
   "source": [
    "import arcpy\n",
    "from arcpy.sa import *\n",
    "arcpy.env.workspace = r\"C:\\Geog503\\data\"\n",
    "arcpy.env.overwriteOutput = True\n",
    "in_raster = \"Elevation\"\n",
    "nbr = NbrRectangle(5,5,\"Cell\")\n",
    "out_raster = FocalStatistics(in_raster,nbr,\"MEAN\")\n",
    "out_raster.save( r\"C:\\Geog503\\data\\Results\\focalmean.tif\")\n",
    "del out_raster"
   ]
  }
 ],
 "metadata": {
  "kernelspec": {
   "display_name": "Python [conda env:arc104]",
   "language": "python",
   "name": "conda-env-arc104-py"
  },
  "language_info": {
   "codemirror_mode": {
    "name": "ipython",
    "version": 2
   },
   "file_extension": ".py",
   "mimetype": "text/x-python",
   "name": "python",
   "nbconvert_exporter": "python",
   "pygments_lexer": "ipython2",
   "version": "2.7.10"
  }
 },
 "nbformat": 4,
 "nbformat_minor": 1
}
