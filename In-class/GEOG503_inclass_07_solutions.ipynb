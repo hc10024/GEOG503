{
 "cells": [
  {
   "cell_type": "markdown",
   "metadata": {
    "collapsed": true
   },
   "source": [
    "Write a script that performs the following tasks using the **rivers.shp** and Geometry objects. \n",
    "\n",
    "*\tCalculate the total, average, minimum, and maximum length of the rivers (10 pt.) \n",
    "\n",
    "* <http://desktop.arcgis.com/en/arcmap/latest/analyze/arcpy-classes/geometry.htm>"
   ]
  },
  {
   "cell_type": "code",
   "execution_count": 1,
   "metadata": {
    "collapsed": false
   },
   "outputs": [
    {
     "name": "stdout",
     "output_type": "stream",
     "text": [
      "8780.44052126\n",
      "7345.27327278\n",
      "8648.28729872\n",
      "4578.50680128\n",
      "9377.88063515\n",
      "14776.4190704\n",
      "9821.7270259\n",
      "2796.41918045\n",
      "7330.04750989\n",
      "15557.7685964\n",
      "7086.81386144\n",
      "18800.7430512\n",
      "11523.880092\n",
      "15633.6315608\n",
      "8791.78340129\n",
      "12089.0578406\n",
      "9278.15802939\n",
      "8632.94213176\n",
      "26613.503593\n",
      "7214.64320692\n",
      "9161.63305955\n",
      "13010.6552938\n",
      "5029.33122282\n",
      "5289.33460285\n",
      "2507.19966459\n",
      "7261.32878693\n",
      "Total length = 256937.409311, average length = 9882.20805043, min length = 2507.19966459, max length = 26613.503593\n"
     ]
    }
   ],
   "source": [
    "import arcpy\n",
    "import math\n",
    "arcpy.env.workspace = r\"C:\\Geog503\\data\"\n",
    "fc = \"rivers.shp\"\n",
    "g = arcpy.Geometry()\n",
    "geomList = arcpy.CopyFeatures_management(fc,g)\n",
    "len_list = []\n",
    "for geom in geomList:\n",
    "    print(geom.length)\n",
    "    len_list.append(geom.length)\n",
    "    \n",
    "total_len = sum(len_list)\n",
    "mean_len = total_len / len(len_list)\n",
    "min_len = min(len_list)\n",
    "max_len = max(len_list)\n",
    "print(\"Total length = {}, average length = {}, min length = {}, max length = {}\".format(total_len, mean_len, min_len, max_len))"
   ]
  }
 ],
 "metadata": {
  "anaconda-cloud": {},
  "kernelspec": {
   "display_name": "Python [conda env:arc104]",
   "language": "python",
   "name": "conda-env-arc104-py"
  },
  "language_info": {
   "codemirror_mode": {
    "name": "ipython",
    "version": 2
   },
   "file_extension": ".py",
   "mimetype": "text/x-python",
   "name": "python",
   "nbconvert_exporter": "python",
   "pygments_lexer": "ipython2",
   "version": "2.7.10"
  }
 },
 "nbformat": 4,
 "nbformat_minor": 1
}
